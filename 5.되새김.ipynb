{
 "cells": [
  {
   "cell_type": "code",
   "execution_count": null,
   "metadata": {},
   "outputs": [],
   "source": [
    "#1 클래스 상속받고 메서드 추가하기1\n",
    "class Calculator:\n",
    "    def __init__(self):\n",
    "        self.value = 0\n",
    "    \n",
    "    def add(self, val):\n",
    "        self.value += val\n",
    "\n",
    "##추가하기\n",
    "class UpgradeCalculator(Calculator):\n",
    "    def minus(self, val):\n",
    "        self.value -= val"
   ]
  },
  {
   "cell_type": "code",
   "execution_count": 1,
   "metadata": {},
   "outputs": [
    {
     "ename": "NameError",
     "evalue": "name 'Calculator' is not defined",
     "output_type": "error",
     "traceback": [
      "\u001b[0;31m---------------------------------------------------------------------------\u001b[0m",
      "\u001b[0;31mNameError\u001b[0m                                 Traceback (most recent call last)",
      "Cell \u001b[0;32mIn[1], line 4\u001b[0m\n\u001b[1;32m      1\u001b[0m \u001b[38;5;66;03m#2 클래스 상속받고 세머스 추가하기2\u001b[39;00m\n\u001b[1;32m      2\u001b[0m \u001b[38;5;66;03m## 객체변수 value 가 100 이상의 값은 가질 수 없도록 제한하는 MaxLimitCalculator 클래스를 만들어보자.\u001b[39;00m\n\u001b[0;32m----> 4\u001b[0m \u001b[38;5;28;01mclass\u001b[39;00m \u001b[38;5;21;01mMaxLimitCalculator\u001b[39;00m(\u001b[43mCalculator\u001b[49m):\n\u001b[1;32m      5\u001b[0m     \u001b[38;5;28;01mdef\u001b[39;00m \u001b[38;5;21madd\u001b[39m(\u001b[38;5;28mself\u001b[39m, val):\n\u001b[1;32m      6\u001b[0m         \u001b[38;5;28mself\u001b[39m\u001b[38;5;241m.\u001b[39mvalue \u001b[38;5;241m+\u001b[39m\u001b[38;5;241m=\u001b[39m val\n",
      "\u001b[0;31mNameError\u001b[0m: name 'Calculator' is not defined"
     ]
    }
   ],
   "source": [
    "#2 클래스 상속받고 세머스 추가하기2\n",
    "## 객체변수 value 가 100 이상의 값은 가질 수 없도록 제한하는 MaxLimitCalculator 클래스를 만들어보자.\n",
    "\n",
    "class MaxLimitCalculator(Calculator):\n",
    "    def add(self, val):\n",
    "        self.value += val\n",
    "        if self.value > 100:\n",
    "            self.value = 100\n",
    "\n",
    "cal = MaxLimitCalculator()\n",
    "cal.add(50)\n",
    "cal.add(60)\n",
    "\n",
    "print(cal.value)"
   ]
  },
  {
   "cell_type": "code",
   "execution_count": null,
   "metadata": {},
   "outputs": [],
   "source": [
    "#3 참과 거짓 예측하기\n",
    "##all([1, 2, abs(-3)-3])\n",
    "##>>> False\n",
    "##설명 : abs(-3)은 3 이기 때문에 -> all([1,2,0]) -> 리스트의 요솟값 중 0이 있기 때문에 all 내장 함수의 결과는 False 가 됨\n",
    "\n",
    "\n",
    "##chr(ord('a')) == 'a'\n",
    "##True\n",
    "##설명 : ord 함수는 문자에 해당하는 유니토드 정수를 리턴함.\n",
    "##ord('a') = 97\n",
    "##-> chr(97) = 'a'\n",
    "##-> 'a' == 'a' 이므로 True 임.\n",
    "\n"
   ]
  },
  {
   "cell_type": "code",
   "execution_count": 2,
   "metadata": {},
   "outputs": [
    {
     "data": {
      "text/plain": [
       "False"
      ]
     },
     "execution_count": 2,
     "metadata": {},
     "output_type": "execute_result"
    }
   ],
   "source": [
    "all([1, 2, abs(-3)-3])"
   ]
  },
  {
   "cell_type": "code",
   "execution_count": 3,
   "metadata": {},
   "outputs": [
    {
     "data": {
      "text/plain": [
       "True"
      ]
     },
     "execution_count": 3,
     "metadata": {},
     "output_type": "execute_result"
    }
   ],
   "source": [
    "chr(ord('a')) == 'a'"
   ]
  },
  {
   "cell_type": "code",
   "execution_count": 5,
   "metadata": {},
   "outputs": [
    {
     "data": {
      "text/plain": [
       "[1, 3, 8]"
      ]
     },
     "execution_count": 5,
     "metadata": {},
     "output_type": "execute_result"
    }
   ],
   "source": [
    "#4 음수 제거하기\n",
    "#filter 와 lambda 를 사용하여 리스트[1,-2,3,-5,8,-3]에서 음수를 모두 제거해보자.\n",
    "\n",
    "list(filter(lambda x: x>0,[1,-2,3,-5,8,-3]))\n"
   ]
  },
  {
   "cell_type": "code",
   "execution_count": 4,
   "metadata": {},
   "outputs": [
    {
     "data": {
      "text/plain": [
       "234"
      ]
     },
     "execution_count": 4,
     "metadata": {},
     "output_type": "execute_result"
    }
   ],
   "source": [
    "#5 16 진수를 10진수로 변경하기\n",
    "#16진수 문자열 'Oxea'를 10진수로 변경해 보자.\n",
    "int('0xea', 16)\n"
   ]
  },
  {
   "cell_type": "code",
   "execution_count": 3,
   "metadata": {},
   "outputs": [
    {
     "data": {
      "text/plain": [
       "[3, 6, 9, 12]"
      ]
     },
     "execution_count": 3,
     "metadata": {},
     "output_type": "execute_result"
    }
   ],
   "source": [
    "#6 리스트 항목마다 3 곱하여 리턴하기\n",
    "#map 과 lambda를 사용하여 [1,2,3,4] 리스트의 각 요솟값에 3이 곱해진 리스트 [3,6,9,12]를 만들어보자.\n",
    "list(map(lambda x:x*3,[1,2,3,4]))\n"
   ]
  },
  {
   "cell_type": "code",
   "execution_count": 2,
   "metadata": {},
   "outputs": [
    {
     "data": {
      "text/plain": [
       "-1"
      ]
     },
     "execution_count": 2,
     "metadata": {},
     "output_type": "execute_result"
    }
   ],
   "source": [
    "#7 최댓값과 최솟값의 합\n",
    "#[-8,2,7,5,-3,5,0,1]\n",
    "a = [-8,2,7,5,-3,5,0,1]\n",
    "max(a) + min(a)\n"
   ]
  },
  {
   "cell_type": "code",
   "execution_count": 1,
   "metadata": {},
   "outputs": [
    {
     "data": {
      "text/plain": [
       "5.6667"
      ]
     },
     "execution_count": 1,
     "metadata": {},
     "output_type": "execute_result"
    }
   ],
   "source": [
    "#8 소수점 반올림하기\n",
    "#17 /3 의 결괎값을 소숫점 4자리까지만 반올림하여 표시해 보자\n",
    "round(17/3 ,4)\n"
   ]
  },
  {
   "cell_type": "code",
   "execution_count": null,
   "metadata": {},
   "outputs": [],
   "source": [
    "#9 디렉터리 이동하고 파일 목록 출력하기"
   ]
  },
  {
   "cell_type": "code",
   "execution_count": null,
   "metadata": {},
   "outputs": [],
   "source": [
    "#10 파일 확장자가 .py인 파일만 찾기\n",
    "#glob 모듈을 사용하여 C:\\doit 디렉터리의 파일 중 확장자가 .py인 파일만 출력하는 프로그램을 작성해보자.\n",
    "import glob\n",
    "glob.glob(\"주소/*.py\")"
   ]
  },
  {
   "cell_type": "code",
   "execution_count": 7,
   "metadata": {},
   "outputs": [
    {
     "data": {
      "text/plain": [
       "'2024/11/08 00:54:59'"
      ]
     },
     "execution_count": 7,
     "metadata": {},
     "output_type": "execute_result"
    }
   ],
   "source": [
    "#11 날짜 표시하기\n",
    "## time 모듈을 사용하여 현재 날짜와 시간을 다음과 같은 형식으로 출력해보자\n",
    "## 2018/04/03 17:20:32\n",
    "import time\n",
    "time.strftime(\"%Y/%m/%d %H:%M:%S\")"
   ]
  },
  {
   "cell_type": "code",
   "execution_count": 8,
   "metadata": {},
   "outputs": [
    {
     "name": "stdout",
     "output_type": "stream",
     "text": [
      "[17, 20, 44, 6, 27, 32]\n"
     ]
    }
   ],
   "source": [
    "#12 로또 번호 생성하기\n",
    "import random\n",
    "\n",
    "result = []\n",
    "while len(result) < 6:\n",
    "    num = random.randint(1,45)\n",
    "    if num not in result:\n",
    "        result.append(num)\n",
    "\n",
    "print(result)"
   ]
  },
  {
   "cell_type": "code",
   "execution_count": 10,
   "metadata": {},
   "outputs": [
    {
     "data": {
      "text/plain": [
       "1051"
      ]
     },
     "execution_count": 10,
     "metadata": {},
     "output_type": "execute_result"
    }
   ],
   "source": [
    "#13 누나는 영철이보다 며칠 더 먼저 태어났을까?\n",
    "import datetime\n",
    "sister = datetime.date(1995, 11, 20)\n",
    "me = datetime.date(1998, 10, 6)\n",
    "(me-sister).days"
   ]
  },
  {
   "cell_type": "code",
   "execution_count": 9,
   "metadata": {},
   "outputs": [
    {
     "name": "stdout",
     "output_type": "stream",
     "text": [
      "('윤서현', 15.25)\n",
      "('김예지', 13.31)\n",
      "('박예원', 15.34)\n",
      "('송순자', 15.57)\n",
      "('김시우', 15.48)\n",
      "('배숙자', 17.9)\n",
      "('전정웅', 13.39)\n",
      "('김혜진', 16.63)\n",
      "('최보람', 17.14)\n",
      "('한지영', 14.83)\n",
      "('이성호', 17.7)\n",
      "('김옥순', 16.71)\n",
      "('황민지', 17.65)\n",
      "('김영철', 16.7)\n",
      "('주병철', 15.67)\n",
      "('박상현', 14.16)\n",
      "('김영순', 14.81)\n",
      "('오지아', 15.13)\n",
      "('윤지은', 16.93)\n",
      "('문제호', 16.39)\n"
     ]
    }
   ],
   "source": [
    "#14 기록순으로 정렬하기\n",
    "\n",
    "import operator  ## 이거 넣어주기!\n",
    "\n",
    "data= [('윤서현', 15.25),\n",
    "       ('김예지', 13.31),\n",
    "       ('박예원', 15.34),\n",
    "       ('송순자', 15.57),\n",
    "       ('김시우', 15.48),\n",
    "       ('배숙자', 17.9),\n",
    "       ('전정웅', 13.39),\n",
    "       ('김혜진', 16.63),\n",
    "       ('최보람', 17.14),\n",
    "       ('한지영', 14.83),\n",
    "       ('이성호', 17.7),\n",
    "       ('김옥순', 16.71),\n",
    "       ('황민지', 17.65),\n",
    "       ('김영철', 16.7),\n",
    "       ('주병철', 15.67),\n",
    "       ('박상현', 14.16),\n",
    "       ('김영순', 14.81),\n",
    "       ('오지아', 15.13),\n",
    "       ('윤지은', 16.93),\n",
    "       ('문제호', 16.39)]\n",
    "\n",
    "date = sorted(data, key=operator.itemgetter(1))\n",
    "for d in data:\n",
    "    print(d)"
   ]
  },
  {
   "cell_type": "code",
   "execution_count": 7,
   "metadata": {},
   "outputs": [
    {
     "name": "stdout",
     "output_type": "stream",
     "text": [
      "[('나지혜', '성성민'), ('나지혜', '윤지현'), ('나지혜', '김정숙'), ('성성민', '윤지현'), ('성성민', '김정숙'), ('윤지현', '김정숙')]\n"
     ]
    }
   ],
   "source": [
    "#15 청소 당번 2명 뽑기\n",
    "import itertools\n",
    "\n",
    "student = ['나지혜', '성성민', '윤지현', '김정숙']\n",
    "result = itertools.combinations(student, 2)\n",
    "print(list(result))"
   ]
  },
  {
   "cell_type": "code",
   "execution_count": 6,
   "metadata": {},
   "outputs": [
    {
     "name": "stdout",
     "output_type": "stream",
     "text": [
      "abcd\n",
      "abdc\n",
      "acbd\n",
      "acdb\n",
      "adbc\n",
      "adcb\n",
      "bacd\n",
      "badc\n",
      "bcad\n",
      "bcda\n",
      "bdac\n",
      "bdca\n",
      "cabd\n",
      "cadb\n",
      "cbad\n",
      "cbda\n",
      "cdab\n",
      "cdba\n",
      "dabc\n",
      "dacb\n",
      "dbac\n",
      "dbca\n",
      "dcab\n",
      "dcba\n"
     ]
    }
   ],
   "source": [
    "#16 문자열 나열하기\n",
    "import itertools\n",
    "\n",
    "a = \"abcd\"\n",
    "result = itertools.permutations(a, 4)\n",
    "for r in result:\n",
    "    print(''.join(r))"
   ]
  },
  {
   "cell_type": "code",
   "execution_count": 14,
   "metadata": {},
   "outputs": [
    {
     "name": "stdout",
     "output_type": "stream",
     "text": [
      "('김승현', '청소')\n",
      "('김진호', '빨래')\n",
      "('강춘자', '설거지')\n",
      "('이예준', '쉬자')\n",
      "('김현주', '쉬자')\n"
     ]
    }
   ],
   "source": [
    "#17 5명에게 할 일 부여하기\n",
    "##이름\n",
    "#['김승현','김진호','강춘자','이예준','김현주']\n",
    "##할 일\n",
    "#['청소','빨래','설거지']\n",
    "\n",
    "import random\n",
    "import itertools\n",
    "\n",
    "name = ['김승현','김진호','강춘자','이예준','김현주']\n",
    "todo = ['청소','빨래','설거지']\n",
    "\n",
    "random.sample(name, len(name))\n",
    "result = itertools.zip_longest(name, todo, fillvalue='쉬자')\n",
    "for r in result:\n",
    "    print(r)"
   ]
  },
  {
   "cell_type": "code",
   "execution_count": 16,
   "metadata": {},
   "outputs": [
    {
     "name": "stdout",
     "output_type": "stream",
     "text": [
      "타일 한 선의 길이:40\n",
      "필요한 타일의 개수: 10\n"
     ]
    }
   ],
   "source": [
    "#18 벽에 타일 붙이기\n",
    "##가로의 길이는 200cm 이고 세로의 길이는 80cm 인 벽이 있다. 이 벽에 되로록 큰 정사각형 모양의 타일을 붙이려고 한다. 이때 붙이려는 타일 한 선의 길이와 붙이는 데 필요한 타일의 개수를 구하시오\n",
    "import math\n",
    "\n",
    "garo = 200\n",
    "sero = 80\n",
    "\n",
    "square_size = math.gcd(200,80)\n",
    "print(\"타일 한 선의 길이:{}\".format(square_size))\n",
    "\n",
    "garo_count = garo/square_size\n",
    "sero_count = sero/square_size\n",
    "\n",
    "print(\"필요한 타일의 개수: {}\".format(int(garo_count * sero_count)))"
   ]
  }
 ],
 "metadata": {
  "kernelspec": {
   "display_name": "Python 3",
   "language": "python",
   "name": "python3"
  },
  "language_info": {
   "codemirror_mode": {
    "name": "ipython",
    "version": 3
   },
   "file_extension": ".py",
   "mimetype": "text/x-python",
   "name": "python",
   "nbconvert_exporter": "python",
   "pygments_lexer": "ipython3",
   "version": "3.9.6"
  }
 },
 "nbformat": 4,
 "nbformat_minor": 2
}
